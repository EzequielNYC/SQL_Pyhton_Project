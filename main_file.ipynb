{
 "cells": [
  {
   "cell_type": "code",
   "execution_count": 5,
   "metadata": {},
   "outputs": [],
   "source": [
    "''' All packages that need to be imported '''\n",
    "\n",
    "from sqlalchemy import create_engine, func\n",
    "from sqlalchemy.ext.automap import automap_base\n",
    "from sqlalchemy.orm import Session\n",
    "import pandas as pd\n"
   ]
  },
  {
   "cell_type": "code",
   "execution_count": 7,
   "metadata": {},
   "outputs": [
    {
     "name": "stderr",
     "output_type": "stream",
     "text": [
      "/var/folders/fy/fl5q9lyx5cl_4sqy67dvl7f80000gn/T/ipykernel_9699/2448594371.py:10: SADeprecationWarning: The AutomapBase.prepare.reflect parameter is deprecated and will be removed in a future release.  Reflection is enabled when AutomapBase.prepare.autoload_with is passed.\n",
      "  Base.prepare(engine, reflect=True)\n"
     ]
    }
   ],
   "source": [
    "''' Creating the connection to SQL Database'''\n",
    "\n",
    "from config import info\n",
    "engine = create_engine(info)\n",
    "\n",
    "# this object will automatically map our db entity into a Python class\n",
    "Base = automap_base()\n",
    "\n",
    "# get db into automapper\n",
    "Base.prepare(engine, reflect=True)\n",
    "\n",
    "# save classes as variables, prepare classes\n",
    "epi_country = Base.classes.epi_country\n",
    "\n",
    "# query our database (pull data and save into objects)\n",
    "session = Session(engine)\n",
    "\n",
    "query = session.query(\n",
    "    epi_country.country, \n",
    "    epi_country.air_h,\n",
    "    epi_country.water_h,\n",
    "    epi_country.biodiversity,\n",
    "    epi_country.fisheries,\n",
    "    epi_country.epi,\n",
    "    epi_country.geo_subregion)\n",
    "\n",
    "rows = query.filter(epi_country.geo_subregion == \"Caribbean\").all()\n",
    "df = pd.DataFrame(rows,columns=[\"country\", \"air_h\", \"water_h\", \"biodiversity\", \"fisheries\", \"epi\", \"geo_subregion\"])\n"
   ]
  },
  {
   "cell_type": "code",
   "execution_count": null,
   "metadata": {},
   "outputs": [],
   "source": [
    "''' creating corruption DF to compare to EPI metrics '''\n",
    "corruption_df = pd.read_csv('/Users/ezequielesparza/SQL_Pyhton_Project/CPI-2010-new_200601_105629.csv')"
   ]
  }
 ],
 "metadata": {
  "kernelspec": {
   "display_name": "Python 3",
   "language": "python",
   "name": "python3"
  },
  "language_info": {
   "codemirror_mode": {
    "name": "ipython",
    "version": 3
   },
   "file_extension": ".py",
   "mimetype": "text/x-python",
   "name": "python",
   "nbconvert_exporter": "python",
   "pygments_lexer": "ipython3",
   "version": "3.10.7 (v3.10.7:6cc6b13308, Sep  5 2022, 14:02:52) [Clang 13.0.0 (clang-1300.0.29.30)]"
  },
  "orig_nbformat": 4,
  "vscode": {
   "interpreter": {
    "hash": "aee8b7b246df8f9039afb4144a1f6fd8d2ca17a180786b69acc140d282b71a49"
   }
  }
 },
 "nbformat": 4,
 "nbformat_minor": 2
}
